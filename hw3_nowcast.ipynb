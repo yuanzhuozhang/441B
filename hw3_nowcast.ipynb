{
 "cells": [
  {
   "cell_type": "code",
   "execution_count": 1,
   "id": "1022e4d8",
   "metadata": {},
   "outputs": [],
   "source": [
    "import numpy as np\n",
    "import pandas as pd\n",
    "import datetime as dt\n",
    "import matplotlib as mpl\n",
    "import matplotlib.pyplot as plt\n",
    "from sklearn.model_selection import train_test_split\n",
    "from sklearn.linear_model import LogisticRegression\n",
    "from sklearn.metrics import confusion_matrix, accuracy_score, precision_score, recall_score, f1_score\n",
    "from sklearn.preprocessing import LabelEncoder\n",
    "df = pd.read_csv(\"AAPL_quarterly_financials.csv\")"
   ]
  },
  {
   "cell_type": "markdown",
   "id": "a98f5070",
   "metadata": {},
   "source": [
    "# 0.) Clean the Apple Data to get a quarterly series of EPS."
   ]
  },
  {
   "cell_type": "code",
   "execution_count": 2,
   "id": "c7f8e883",
   "metadata": {},
   "outputs": [
    {
     "data": {
      "text/html": [
       "<div>\n",
       "<style scoped>\n",
       "    .dataframe tbody tr th:only-of-type {\n",
       "        vertical-align: middle;\n",
       "    }\n",
       "\n",
       "    .dataframe tbody tr th {\n",
       "        vertical-align: top;\n",
       "    }\n",
       "\n",
       "    .dataframe thead th {\n",
       "        text-align: right;\n",
       "    }\n",
       "</style>\n",
       "<table border=\"1\" class=\"dataframe\">\n",
       "  <thead>\n",
       "    <tr style=\"text-align: right;\">\n",
       "      <th></th>\n",
       "      <th>BasicEPS</th>\n",
       "    </tr>\n",
       "  </thead>\n",
       "  <tbody>\n",
       "    <tr>\n",
       "      <th>1985-09-30</th>\n",
       "      <td>0.0</td>\n",
       "    </tr>\n",
       "    <tr>\n",
       "      <th>1985-12-31</th>\n",
       "      <td>0.004</td>\n",
       "    </tr>\n",
       "    <tr>\n",
       "      <th>1986-03-31</th>\n",
       "      <td>0.002</td>\n",
       "    </tr>\n",
       "    <tr>\n",
       "      <th>1986-06-30</th>\n",
       "      <td>0.002</td>\n",
       "    </tr>\n",
       "    <tr>\n",
       "      <th>1986-09-30</th>\n",
       "      <td>0.0</td>\n",
       "    </tr>\n",
       "    <tr>\n",
       "      <th>...</th>\n",
       "      <td>...</td>\n",
       "    </tr>\n",
       "    <tr>\n",
       "      <th>2022-09-30</th>\n",
       "      <td>1.29</td>\n",
       "    </tr>\n",
       "    <tr>\n",
       "      <th>2022-12-31</th>\n",
       "      <td>1.89</td>\n",
       "    </tr>\n",
       "    <tr>\n",
       "      <th>2023-03-31</th>\n",
       "      <td>1.53</td>\n",
       "    </tr>\n",
       "    <tr>\n",
       "      <th>2023-06-30</th>\n",
       "      <td>1.27</td>\n",
       "    </tr>\n",
       "    <tr>\n",
       "      <th>2023-09-30</th>\n",
       "      <td>1.47</td>\n",
       "    </tr>\n",
       "  </tbody>\n",
       "</table>\n",
       "<p>153 rows × 1 columns</p>\n",
       "</div>"
      ],
      "text/plain": [
       "           BasicEPS\n",
       "1985-09-30      0.0\n",
       "1985-12-31    0.004\n",
       "1986-03-31    0.002\n",
       "1986-06-30    0.002\n",
       "1986-09-30      0.0\n",
       "...             ...\n",
       "2022-09-30     1.29\n",
       "2022-12-31     1.89\n",
       "2023-03-31     1.53\n",
       "2023-06-30     1.27\n",
       "2023-09-30     1.47\n",
       "\n",
       "[153 rows x 1 columns]"
      ]
     },
     "execution_count": 2,
     "metadata": {},
     "output_type": "execute_result"
    }
   ],
   "source": [
    "df.index = df.name \n",
    "df = pd.DataFrame(df.loc['BasicEPS',:]).iloc[2:,:]\n",
    "df.index = pd.to_datetime(df.index)\n",
    "df = df.sort_index().fillna(0.)\n",
    "df"
   ]
  },
  {
   "cell_type": "markdown",
   "id": "f41c46a9",
   "metadata": {},
   "source": [
    "# 1.) Come up with 6 search terms you think could nowcast earnings. (Different than the ones I used) Add in 3 terms that that you think will not Nowcast earnings. Pull in the gtrends data. Clean it to have a quarterly average."
   ]
  },
  {
   "cell_type": "code",
   "execution_count": 3,
   "id": "36446546",
   "metadata": {},
   "outputs": [
    {
     "data": {
      "text/html": [
       "<div>\n",
       "<style scoped>\n",
       "    .dataframe tbody tr th:only-of-type {\n",
       "        vertical-align: middle;\n",
       "    }\n",
       "\n",
       "    .dataframe tbody tr th {\n",
       "        vertical-align: top;\n",
       "    }\n",
       "\n",
       "    .dataframe thead th {\n",
       "        text-align: right;\n",
       "    }\n",
       "</style>\n",
       "<table border=\"1\" class=\"dataframe\">\n",
       "  <thead>\n",
       "    <tr style=\"text-align: right;\">\n",
       "      <th></th>\n",
       "      <th>iphone</th>\n",
       "      <th>M1</th>\n",
       "      <th>iwatch</th>\n",
       "      <th>ios</th>\n",
       "      <th>Mac</th>\n",
       "      <th>Apple Events</th>\n",
       "      <th>Manchester United</th>\n",
       "      <th>World Cup</th>\n",
       "      <th>UCLA</th>\n",
       "    </tr>\n",
       "    <tr>\n",
       "      <th>date</th>\n",
       "      <th></th>\n",
       "      <th></th>\n",
       "      <th></th>\n",
       "      <th></th>\n",
       "      <th></th>\n",
       "      <th></th>\n",
       "      <th></th>\n",
       "      <th></th>\n",
       "      <th></th>\n",
       "    </tr>\n",
       "  </thead>\n",
       "  <tbody>\n",
       "    <tr>\n",
       "      <th>2004-03-31</th>\n",
       "      <td>0.000000</td>\n",
       "      <td>34.000000</td>\n",
       "      <td>0.333333</td>\n",
       "      <td>1.000000</td>\n",
       "      <td>73.333333</td>\n",
       "      <td>13.000000</td>\n",
       "      <td>13.666667</td>\n",
       "      <td>1.000000</td>\n",
       "      <td>86.666667</td>\n",
       "    </tr>\n",
       "    <tr>\n",
       "      <th>2004-06-30</th>\n",
       "      <td>0.000000</td>\n",
       "      <td>32.000000</td>\n",
       "      <td>0.333333</td>\n",
       "      <td>1.666667</td>\n",
       "      <td>71.000000</td>\n",
       "      <td>26.666667</td>\n",
       "      <td>11.333333</td>\n",
       "      <td>1.333333</td>\n",
       "      <td>85.000000</td>\n",
       "    </tr>\n",
       "    <tr>\n",
       "      <th>2004-09-30</th>\n",
       "      <td>0.000000</td>\n",
       "      <td>30.000000</td>\n",
       "      <td>0.000000</td>\n",
       "      <td>1.333333</td>\n",
       "      <td>67.666667</td>\n",
       "      <td>21.000000</td>\n",
       "      <td>15.333333</td>\n",
       "      <td>1.333333</td>\n",
       "      <td>75.333333</td>\n",
       "    </tr>\n",
       "    <tr>\n",
       "      <th>2004-12-31</th>\n",
       "      <td>0.000000</td>\n",
       "      <td>33.333333</td>\n",
       "      <td>0.333333</td>\n",
       "      <td>1.000000</td>\n",
       "      <td>74.333333</td>\n",
       "      <td>23.666667</td>\n",
       "      <td>15.333333</td>\n",
       "      <td>1.000000</td>\n",
       "      <td>83.000000</td>\n",
       "    </tr>\n",
       "    <tr>\n",
       "      <th>2005-03-31</th>\n",
       "      <td>0.000000</td>\n",
       "      <td>32.000000</td>\n",
       "      <td>0.000000</td>\n",
       "      <td>1.000000</td>\n",
       "      <td>80.666667</td>\n",
       "      <td>21.333333</td>\n",
       "      <td>15.333333</td>\n",
       "      <td>1.000000</td>\n",
       "      <td>81.666667</td>\n",
       "    </tr>\n",
       "    <tr>\n",
       "      <th>...</th>\n",
       "      <td>...</td>\n",
       "      <td>...</td>\n",
       "      <td>...</td>\n",
       "      <td>...</td>\n",
       "      <td>...</td>\n",
       "      <td>...</td>\n",
       "      <td>...</td>\n",
       "      <td>...</td>\n",
       "      <td>...</td>\n",
       "    </tr>\n",
       "    <tr>\n",
       "      <th>2022-09-30</th>\n",
       "      <td>55.666667</td>\n",
       "      <td>81.333333</td>\n",
       "      <td>17.000000</td>\n",
       "      <td>19.666667</td>\n",
       "      <td>41.333333</td>\n",
       "      <td>35.666667</td>\n",
       "      <td>70.666667</td>\n",
       "      <td>2.666667</td>\n",
       "      <td>32.000000</td>\n",
       "    </tr>\n",
       "    <tr>\n",
       "      <th>2022-12-31</th>\n",
       "      <td>51.333333</td>\n",
       "      <td>86.000000</td>\n",
       "      <td>16.000000</td>\n",
       "      <td>16.000000</td>\n",
       "      <td>42.000000</td>\n",
       "      <td>29.666667</td>\n",
       "      <td>57.333333</td>\n",
       "      <td>69.666667</td>\n",
       "      <td>39.666667</td>\n",
       "    </tr>\n",
       "    <tr>\n",
       "      <th>2023-03-31</th>\n",
       "      <td>49.333333</td>\n",
       "      <td>77.666667</td>\n",
       "      <td>14.666667</td>\n",
       "      <td>14.000000</td>\n",
       "      <td>43.333333</td>\n",
       "      <td>24.333333</td>\n",
       "      <td>77.000000</td>\n",
       "      <td>3.666667</td>\n",
       "      <td>43.000000</td>\n",
       "    </tr>\n",
       "    <tr>\n",
       "      <th>2023-06-30</th>\n",
       "      <td>47.666667</td>\n",
       "      <td>68.333333</td>\n",
       "      <td>12.666667</td>\n",
       "      <td>14.000000</td>\n",
       "      <td>38.333333</td>\n",
       "      <td>26.333333</td>\n",
       "      <td>48.000000</td>\n",
       "      <td>2.666667</td>\n",
       "      <td>29.000000</td>\n",
       "    </tr>\n",
       "    <tr>\n",
       "      <th>2023-09-30</th>\n",
       "      <td>56.666667</td>\n",
       "      <td>69.666667</td>\n",
       "      <td>13.000000</td>\n",
       "      <td>16.333333</td>\n",
       "      <td>38.666667</td>\n",
       "      <td>37.333333</td>\n",
       "      <td>50.000000</td>\n",
       "      <td>13.000000</td>\n",
       "      <td>29.000000</td>\n",
       "    </tr>\n",
       "  </tbody>\n",
       "</table>\n",
       "<p>79 rows × 9 columns</p>\n",
       "</div>"
      ],
      "text/plain": [
       "               iphone         M1     iwatch        ios        Mac  \\\n",
       "date                                                                \n",
       "2004-03-31   0.000000  34.000000   0.333333   1.000000  73.333333   \n",
       "2004-06-30   0.000000  32.000000   0.333333   1.666667  71.000000   \n",
       "2004-09-30   0.000000  30.000000   0.000000   1.333333  67.666667   \n",
       "2004-12-31   0.000000  33.333333   0.333333   1.000000  74.333333   \n",
       "2005-03-31   0.000000  32.000000   0.000000   1.000000  80.666667   \n",
       "...               ...        ...        ...        ...        ...   \n",
       "2022-09-30  55.666667  81.333333  17.000000  19.666667  41.333333   \n",
       "2022-12-31  51.333333  86.000000  16.000000  16.000000  42.000000   \n",
       "2023-03-31  49.333333  77.666667  14.666667  14.000000  43.333333   \n",
       "2023-06-30  47.666667  68.333333  12.666667  14.000000  38.333333   \n",
       "2023-09-30  56.666667  69.666667  13.000000  16.333333  38.666667   \n",
       "\n",
       "            Apple Events  Manchester United  World Cup       UCLA  \n",
       "date                                                               \n",
       "2004-03-31     13.000000          13.666667   1.000000  86.666667  \n",
       "2004-06-30     26.666667          11.333333   1.333333  85.000000  \n",
       "2004-09-30     21.000000          15.333333   1.333333  75.333333  \n",
       "2004-12-31     23.666667          15.333333   1.000000  83.000000  \n",
       "2005-03-31     21.333333          15.333333   1.000000  81.666667  \n",
       "...                  ...                ...        ...        ...  \n",
       "2022-09-30     35.666667          70.666667   2.666667  32.000000  \n",
       "2022-12-31     29.666667          57.333333  69.666667  39.666667  \n",
       "2023-03-31     24.333333          77.000000   3.666667  43.000000  \n",
       "2023-06-30     26.333333          48.000000   2.666667  29.000000  \n",
       "2023-09-30     37.333333          50.000000  13.000000  29.000000  \n",
       "\n",
       "[79 rows x 9 columns]"
      ]
     },
     "execution_count": 3,
     "metadata": {},
     "output_type": "execute_result"
    }
   ],
   "source": [
    "from pytrends.request import TrendReq\n",
    "# Create pytrends object\n",
    "pytrends = TrendReq(hl='en-US', tz=360)\n",
    "\n",
    "# Set up the keywords and the timeframe\n",
    "keywords = [\"iphone\", \"M1\",'iwatch','ios',\n",
    "            'Mac','Apple Events','Manchester United','World Cup','UCLA']  # Add your keywords here\n",
    "start_date = '2004-01-01'\n",
    "end_date = '2023-09-30'\n",
    "\n",
    "# Create an empty DataFrame to store the results\n",
    "d = pd.DataFrame()\n",
    "\n",
    "# Iterate through keywords and fetch data\n",
    "for keyword in keywords:\n",
    "    pytrends.build_payload([keyword], cat=0, timeframe=f'{start_date} {end_date}', geo='', gprop='')\n",
    "    interest_over_time_df = pytrends.interest_over_time()\n",
    "    d[keyword] = interest_over_time_df[keyword]\n",
    "d = d.resample('Q').mean()\n",
    "d = d.loc[start_date:end_date]\n",
    "d"
   ]
  },
  {
   "cell_type": "code",
   "execution_count": null,
   "id": "5694510c",
   "metadata": {},
   "outputs": [],
   "source": []
  },
  {
   "cell_type": "markdown",
   "id": "73c7abb8",
   "metadata": {},
   "source": [
    "# 2.) Normalize all the X data"
   ]
  },
  {
   "cell_type": "code",
   "execution_count": 4,
   "id": "95a7bb4d",
   "metadata": {},
   "outputs": [],
   "source": [
    "from sklearn.preprocessing import StandardScaler"
   ]
  },
  {
   "cell_type": "code",
   "execution_count": 5,
   "id": "397b45e8",
   "metadata": {},
   "outputs": [],
   "source": [
    "scaler = StandardScaler()\n",
    "X_scaled = scaler.fit_transform(d)"
   ]
  },
  {
   "cell_type": "markdown",
   "id": "2c1b3d9a",
   "metadata": {},
   "source": [
    "# 3.) Import data. Train, Test, Holdout (80%,15%,5%)"
   ]
  },
  {
   "cell_type": "code",
   "execution_count": 6,
   "id": "77671d95",
   "metadata": {},
   "outputs": [],
   "source": [
    "train_data, temp_data = train_test_split(d, test_size=0.2, random_state=42)\n",
    "test_data, holdout_data = train_test_split(temp_data, test_size=0.25, random_state=42)"
   ]
  },
  {
   "cell_type": "code",
   "execution_count": 7,
   "id": "0cf724f7",
   "metadata": {},
   "outputs": [],
   "source": [
    "# X_train, X_test, y_trains"
   ]
  },
  {
   "cell_type": "markdown",
   "id": "da43d5ef",
   "metadata": {},
   "source": [
    "# 4.) Run a Lasso with lambda of .5. Plot a bar chart."
   ]
  },
  {
   "cell_type": "code",
   "execution_count": 8,
   "id": "b7ff06aa",
   "metadata": {},
   "outputs": [],
   "source": [
    "from sklearn.linear_model import Lasso"
   ]
  },
  {
   "cell_type": "code",
   "execution_count": 9,
   "id": "f7311bec",
   "metadata": {},
   "outputs": [
    {
     "data": {
      "image/png": "[encoded data removed]",
      "text/plain": [
       "<Figure size 1200x500 with 1 Axes>"
      ]
     },
     "metadata": {},
     "output_type": "display_data"
    }
   ],
   "source": [
    "df1 = df.loc[start_date:end_date]\n",
    "y = df1['BasicEPS']\n",
    "plt.figure(figsize = (12,5))\n",
    "lasso = Lasso(alpha = .5)\n",
    "lasso.fit(X_scaled, y)\n",
    "coefficient = lasso.coef_\n",
    "plt.bar(range(len(coefficient)),coefficient)\n",
    "plt.xticks(range(len(coefficient)), d.columns, rotation=45, ha='right')\n",
    "\n",
    "plt.axhline(0, color = 'red')\n",
    "plt.show()"
   ]
  },
  {
   "cell_type": "code",
   "execution_count": 10,
   "id": "2e577b2d",
   "metadata": {},
   "outputs": [
    {
     "data": {
      "text/plain": [
       "array([ 0.,  0.,  0.,  0., -0.,  0.,  0.,  0., -0.])"
      ]
     },
     "execution_count": 10,
     "metadata": {},
     "output_type": "execute_result"
    }
   ],
   "source": [
    "coefficient"
   ]
  },
  {
   "cell_type": "code",
   "execution_count": 11,
   "id": "f8e023a1",
   "metadata": {},
   "outputs": [
    {
     "data": {
      "image/png": "[encoded data removed]",
      "text/plain": [
       "<Figure size 1200x500 with 1 Axes>"
      ]
     },
     "metadata": {},
     "output_type": "display_data"
    }
   ],
   "source": [
    "df1 = df.loc[start_date:end_date]\n",
    "y = df1['BasicEPS']\n",
    "plt.figure(figsize = (12,5))\n",
    "lasso = Lasso(alpha = .1)\n",
    "lasso.fit(X_scaled, y)\n",
    "coefficient = lasso.coef_\n",
    "plt.bar(range(len(coefficient)),coefficient)\n",
    "plt.xticks(range(len(coefficient)), d.columns, rotation=45, ha='right')\n",
    "\n",
    "plt.axhline(0, color = 'red')\n",
    "plt.show()"
   ]
  },
  {
   "cell_type": "markdown",
   "id": "e130a2be",
   "metadata": {},
   "source": [
    "# 5.) Do these coefficient magnitudes make sense?"
   ]
  },
  {
   "cell_type": "markdown",
   "id": "c6447aae",
   "metadata": {},
   "source": [
    "When alpha = 0.5, all coefficients are shrunk to zero, when alpha is adjusted to 0.1, we can see that iPhone, M1 and iwatch has positive coefficients and Mac has negative coefficients. These coefficients do not make sense because Manchester United also has a postitive coefficient."
   ]
  },
  {
   "cell_type": "code",
   "execution_count": null,
   "id": "bda82fa9",
   "metadata": {},
   "outputs": [],
   "source": []
  },
  {
   "cell_type": "markdown",
   "id": "3a2bd7d7",
   "metadata": {},
   "source": [
    "# 6.) Run a for loop looking at 10 different Lambdas and plot the coefficient magnitude for each."
   ]
  },
  {
   "cell_type": "code",
   "execution_count": null,
   "id": "1f115bee",
   "metadata": {},
   "outputs": [],
   "source": []
  },
  {
   "cell_type": "code",
   "execution_count": null,
   "id": "7a3e12d3",
   "metadata": {},
   "outputs": [],
   "source": []
  },
  {
   "cell_type": "markdown",
   "id": "17b28626",
   "metadata": {},
   "source": [
    "# 7.) Run a cross validation. What is your ideal lambda?"
   ]
  },
  {
   "cell_type": "code",
   "execution_count": null,
   "id": "9fc5cca1",
   "metadata": {},
   "outputs": [],
   "source": []
  },
  {
   "cell_type": "code",
   "execution_count": null,
   "id": "a58a192a",
   "metadata": {},
   "outputs": [],
   "source": []
  }
 ],
 "metadata": {
  "kernelspec": {
   "display_name": "Python 3 (ipykernel)",
   "language": "python",
   "name": "python3"
  },
  "language_info": {
   "codemirror_mode": {
    "name": "ipython",
    "version": 3
   },
   "file_extension": ".py",
   "mimetype": "text/x-python",
   "name": "python",
   "nbconvert_exporter": "python",
   "pygments_lexer": "ipython3",
   "version": "3.11.4"
  }
 },
 "nbformat": 4,
 "nbformat_minor": 5
}
