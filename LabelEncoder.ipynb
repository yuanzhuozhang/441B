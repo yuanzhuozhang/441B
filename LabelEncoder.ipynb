{
 "cells": [
  {
   "cell_type": "code",
   "execution_count": 1,
   "id": "cf0a4834",
   "metadata": {},
   "outputs": [
    {
     "data": {
      "text/html": [
       "<div>\n",
       "<style scoped>\n",
       "    .dataframe tbody tr th:only-of-type {\n",
       "        vertical-align: middle;\n",
       "    }\n",
       "\n",
       "    .dataframe tbody tr th {\n",
       "        vertical-align: top;\n",
       "    }\n",
       "\n",
       "    .dataframe thead th {\n",
       "        text-align: right;\n",
       "    }\n",
       "</style>\n",
       "<table border=\"1\" class=\"dataframe\">\n",
       "  <thead>\n",
       "    <tr style=\"text-align: right;\">\n",
       "      <th></th>\n",
       "      <th>Country</th>\n",
       "      <th>MortalityRate</th>\n",
       "      <th>Population</th>\n",
       "      <th>Year</th>\n",
       "      <th>Income Group</th>\n",
       "      <th>kids_per_woman</th>\n",
       "    </tr>\n",
       "  </thead>\n",
       "  <tbody>\n",
       "    <tr>\n",
       "      <th>0</th>\n",
       "      <td>Afghanistan</td>\n",
       "      <td>356.5</td>\n",
       "      <td>9164945.0</td>\n",
       "      <td>1961.0</td>\n",
       "      <td>Low</td>\n",
       "      <td>7.45</td>\n",
       "    </tr>\n",
       "    <tr>\n",
       "      <th>1</th>\n",
       "      <td>Afghanistan</td>\n",
       "      <td>350.6</td>\n",
       "      <td>9343772.0</td>\n",
       "      <td>1962.0</td>\n",
       "      <td>Low</td>\n",
       "      <td>7.45</td>\n",
       "    </tr>\n",
       "    <tr>\n",
       "      <th>2</th>\n",
       "      <td>Afghanistan</td>\n",
       "      <td>345.0</td>\n",
       "      <td>9531555.0</td>\n",
       "      <td>1963.0</td>\n",
       "      <td>Low</td>\n",
       "      <td>7.45</td>\n",
       "    </tr>\n",
       "    <tr>\n",
       "      <th>3</th>\n",
       "      <td>Afghanistan</td>\n",
       "      <td>339.7</td>\n",
       "      <td>9728645.0</td>\n",
       "      <td>1964.0</td>\n",
       "      <td>Low</td>\n",
       "      <td>7.45</td>\n",
       "    </tr>\n",
       "    <tr>\n",
       "      <th>4</th>\n",
       "      <td>Afghanistan</td>\n",
       "      <td>334.1</td>\n",
       "      <td>9935358.0</td>\n",
       "      <td>1965.0</td>\n",
       "      <td>Low</td>\n",
       "      <td>7.45</td>\n",
       "    </tr>\n",
       "  </tbody>\n",
       "</table>\n",
       "</div>"
      ],
      "text/plain": [
       "       Country  MortalityRate  Population    Year Income Group  kids_per_woman\n",
       "0  Afghanistan          356.5   9164945.0  1961.0          Low            7.45\n",
       "1  Afghanistan          350.6   9343772.0  1962.0          Low            7.45\n",
       "2  Afghanistan          345.0   9531555.0  1963.0          Low            7.45\n",
       "3  Afghanistan          339.7   9728645.0  1964.0          Low            7.45\n",
       "4  Afghanistan          334.1   9935358.0  1965.0          Low            7.45"
      ]
     },
     "execution_count": 1,
     "metadata": {},
     "output_type": "execute_result"
    }
   ],
   "source": [
    "import yfinance as yf\n",
    "import numpy as np\n",
    "import pandas as pd\n",
    "import datetime as dt\n",
    "import matplotlib as mpl\n",
    "import matplotlib.pyplot as plt \n",
    "df = pd.read_excel(\"World Health Data.xlsx\")\n",
    "df = df[['Country','MortalityRate','Population','Year','kids per woman','Income Group']]\n",
    "df['kids_per_woman'] = df['kids per woman']\n",
    "df.drop(columns=['kids per woman'], inplace=True)\n",
    "df.head()"
   ]
  },
  {
   "cell_type": "code",
   "execution_count": 2,
   "id": "d468e73a",
   "metadata": {},
   "outputs": [
    {
     "name": "stdout",
     "output_type": "stream",
     "text": [
      "table_re: \n",
      "                            b      se         t   pval\n",
      "Population            -0.0000  0.0000  -13.5522  0.000\n",
      "kids_per_woman        30.2896  0.2725  111.1679  0.000\n",
      "C(Income_Group)[T.0] -50.7073  4.1749  -12.1456  0.000\n",
      "C(Income_Group)[T.1] -28.3475  3.6970   -7.6678  0.000\n",
      "C(Income_Group)[T.2] -50.8065  4.2332  -12.0020  0.000\n",
      "C(Income_Group)[T.3]  -5.8892  4.7496   -1.2399  0.215\n",
      "\n",
      "High corresponds to C(Income_Group)[T.0]\n",
      "Low corresponds to C(Income_Group)[T.1]\n",
      "Medium corresponds to C(Income_Group)[T.2]\n",
      "nan corresponds to C(Income_Group)[T.3]\n"
     ]
    },
    {
     "name": "stderr",
     "output_type": "stream",
     "text": [
      "/Users/zhangyuanzhuo/anaconda3/lib/python3.11/site-packages/linearmodels/panel/model.py:2616: MissingValueWarning: \n",
      "Inputs contain missing values. Dropping rows with missing observations.\n",
      "  super().__init__(dependent, exog, weights=weights, check_rank=check_rank)\n"
     ]
    }
   ],
   "source": [
    "import linearmodels as plm\n",
    "from sklearn.preprocessing import LabelEncoder\n",
    "\n",
    "label_encoder = LabelEncoder()\n",
    "df['Income_Group'] = label_encoder.fit_transform(df['Income Group'])\n",
    "df = df.set_index(['Country', 'Year'], drop=False)\n",
    "\n",
    "reg_re = plm.RandomEffects.from_formula(\n",
    "    formula='MortalityRate ~ Population + kids_per_woman + C(Income_Group)', data=df)\n",
    "results_re = reg_re.fit()\n",
    "\n",
    "table_re = pd.DataFrame({'b': round(results_re.params, 4),\n",
    "                         'se': round(results_re.std_errors, 4),\n",
    "                         't': round(results_re.tstats, 4),\n",
    "                         'pval': round(results_re.pvalues, 4)})\n",
    "print(f'table_re: \\n{table_re}\\n')\n",
    "original_income_groups = label_encoder.classes_\n",
    "for i in range(len(original_income_groups)):\n",
    "    income_group = original_income_groups[i]\n",
    "    coefficient = f\"C(Income_Group)[T.{i}]\"\n",
    "    print(f\"{income_group} corresponds to {coefficient}\")"
   ]
  },
  {
   "cell_type": "markdown",
   "id": "9ee43882",
   "metadata": {},
   "source": [
    "The regression results indicate several significant associations between predictor variables and mortality rates. Firstly, the coefficient for population size is negative and statistically significant, suggesting that as population increases, mortality rates tend to decrease. Similarly, the coefficient for fertility rates, as measured by 'kids_per_woman', is positive and highly significant, indicating that higher fertility rates are associated with higher mortality rates. Moreover, the coefficients for income groups demonstrate substantial variation and significance. Specifically, when compared to the reference category, 'High' income group exhibits a significantly lower mortality rate, whereas 'Low' and 'Medium' income groups also show lower mortality rates, albeit to a lesser extent. Interestingly, the 'nan' category, representing missing values, does not exhibit a significant difference in mortality rate compared to the reference category, suggesting that the effect of missing income data on mortality rate is not statistically significant. Overall, these findings highlight the complex interplay between demographic factors, such as population size and fertility rates, and socioeconomic determinants, such as income levels, in influencing mortality rates across different income groups. "
   ]
  }
 ],
 "metadata": {
  "kernelspec": {
   "display_name": "Python 3 (ipykernel)",
   "language": "python",
   "name": "python3"
  },
  "language_info": {
   "codemirror_mode": {
    "name": "ipython",
    "version": 3
   },
   "file_extension": ".py",
   "mimetype": "text/x-python",
   "name": "python",
   "nbconvert_exporter": "python",
   "pygments_lexer": "ipython3",
   "version": "3.11.4"
  }
 },
 "nbformat": 4,
 "nbformat_minor": 5
}
